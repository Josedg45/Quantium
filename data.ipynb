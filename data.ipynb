{
 "cells": [
  {
   "cell_type": "code",
   "execution_count": 15,
   "metadata": {},
   "outputs": [
    {
     "name": "stdout",
     "output_type": "stream",
     "text": [
      "          product        date region  \\\n",
      "3490  pink morsel  2020-06-27   east   \n",
      "3259  pink morsel  2020-04-30   west   \n",
      "1131  pink morsel  2018-11-15   west   \n",
      "4627  pink morsel  2021-04-07   west   \n",
      "160   pink morsel  2018-03-18  north   \n",
      "\n",
      "                                                  sales  \n",
      "3490  $3.00$3.00$3.00$3.00$3.00$3.00$3.00$3.00$3.00$...  \n",
      "3259  $3.00$3.00$3.00$3.00$3.00$3.00$3.00$3.00$3.00$...  \n",
      "1131  $3.00$3.00$3.00$3.00$3.00$3.00$3.00$3.00$3.00$...  \n",
      "4627  $5.00$5.00$5.00$5.00$5.00$5.00$5.00$5.00$5.00$...  \n",
      "160   $3.00$3.00$3.00$3.00$3.00$3.00$3.00$3.00$3.00$...  \n"
     ]
    },
    {
     "name": "stderr",
     "output_type": "stream",
     "text": [
      "C:\\Users\\PC\\AppData\\Local\\Temp\\ipykernel_19880\\4128461588.py:17: SettingWithCopyWarning: \n",
      "A value is trying to be set on a copy of a slice from a DataFrame.\n",
      "Try using .loc[row_indexer,col_indexer] = value instead\n",
      "\n",
      "See the caveats in the documentation: https://pandas.pydata.org/pandas-docs/stable/user_guide/indexing.html#returning-a-view-versus-a-copy\n",
      "  filtered_data['sales'] = filtered_data['quantity'] * filtered_data['price']\n",
      "C:\\Users\\PC\\AppData\\Local\\Temp\\ipykernel_19880\\4128461588.py:17: SettingWithCopyWarning: \n",
      "A value is trying to be set on a copy of a slice from a DataFrame.\n",
      "Try using .loc[row_indexer,col_indexer] = value instead\n",
      "\n",
      "See the caveats in the documentation: https://pandas.pydata.org/pandas-docs/stable/user_guide/indexing.html#returning-a-view-versus-a-copy\n",
      "  filtered_data['sales'] = filtered_data['quantity'] * filtered_data['price']\n",
      "C:\\Users\\PC\\AppData\\Local\\Temp\\ipykernel_19880\\4128461588.py:17: SettingWithCopyWarning: \n",
      "A value is trying to be set on a copy of a slice from a DataFrame.\n",
      "Try using .loc[row_indexer,col_indexer] = value instead\n",
      "\n",
      "See the caveats in the documentation: https://pandas.pydata.org/pandas-docs/stable/user_guide/indexing.html#returning-a-view-versus-a-copy\n",
      "  filtered_data['sales'] = filtered_data['quantity'] * filtered_data['price']\n"
     ]
    }
   ],
   "source": [
    "import pandas as pd\n",
    "\n",
    "file_paths = [\n",
    "    r\"C:\\Users\\PC\\Desktop\\Programacion\\Quantium\\data\\daily_sales_data_0.csv\",\n",
    "    r\"C:\\Users\\PC\\Desktop\\Programacion\\Quantium\\data\\daily_sales_data_1.csv\",\n",
    "    r\"C:\\Users\\PC\\Desktop\\Programacion\\Quantium\\data\\daily_sales_data_2.csv\",\n",
    "]\n",
    "\n",
    "processed_dataframes = []\n",
    "\n",
    "for file_path in file_paths:\n",
    "\n",
    "    data = pd.read_csv(file_path)\n",
    "    filtered_data = data[data['product'] == 'pink morsel']\n",
    "    \n",
    "    \n",
    "    filtered_data['sales'] = filtered_data['quantity'] * filtered_data['price']\n",
    "    filtered_data = filtered_data.drop(columns=['quantity', 'price'])\n",
    "    \n",
    "    processed_dataframes.append(filtered_data)\n",
    "\n",
    "combined_data = pd.concat(processed_dataframes, ignore_index=True)\n",
    "\n",
    "print(combined_data.sample(n=5))\n"
   ]
  }
 ],
 "metadata": {
  "kernelspec": {
   "display_name": "Python 3",
   "language": "python",
   "name": "python3"
  },
  "language_info": {
   "codemirror_mode": {
    "name": "ipython",
    "version": 3
   },
   "file_extension": ".py",
   "mimetype": "text/x-python",
   "name": "python",
   "nbconvert_exporter": "python",
   "pygments_lexer": "ipython3",
   "version": "3.12.0"
  }
 },
 "nbformat": 4,
 "nbformat_minor": 2
}
